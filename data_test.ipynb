{
 "cells": [
  {
   "cell_type": "code",
   "execution_count": 3,
   "metadata": {},
   "outputs": [
    {
     "name": "stdout",
     "output_type": "stream",
     "text": [
      "['', '/home/ming/miniconda3/envs/pytorch/lib/python36.zip', '/home/ming/miniconda3/envs/pytorch/lib/python3.6', '/home/ming/miniconda3/envs/pytorch/lib/python3.6/lib-dynload', '/home/ming/.local/lib/python3.6/site-packages', '/home/ming/miniconda3/envs/pytorch/lib/python3.6/site-packages', '/home/ming/miniconda3/envs/pytorch/lib/python3.6/site-packages/torchvision-0.2.1-py3.6.egg', '/home/ming/miniconda3/envs/pytorch/lib/python3.6/site-packages/IPython/extensions', '/home/ming/.ipython', ' /mnt/d1p8/ming/FaceParsing', '/mnt/d1p8/ming/FaceParsing']\n"
     ]
    }
   ],
   "source": [
    "import sys\n",
    "import os\n",
    "sys.path.append(os.path.join('/mnt', 'd1p8', 'ming', 'FaceParsing'))\n",
    "print(sys.path)"
   ]
  },
  {
   "cell_type": "code",
   "execution_count": 4,
   "metadata": {},
   "outputs": [],
   "source": [
    "import Parsing"
   ]
  },
  {
   "cell_type": "code",
   "execution_count": 6,
   "metadata": {},
   "outputs": [
    {
     "name": "stdout",
     "output_type": "stream",
     "text": [
      "512\n"
     ]
    }
   ],
   "source": [
    "print(2048//4)"
   ]
  }
 ],
 "metadata": {
  "kernelspec": {
   "display_name": "Python 3",
   "language": "python",
   "name": "python3"
  },
  "language_info": {
   "codemirror_mode": {
    "name": "ipython",
    "version": 3
   },
   "file_extension": ".py",
   "mimetype": "text/x-python",
   "name": "python",
   "nbconvert_exporter": "python",
   "pygments_lexer": "ipython3",
   "version": "3.6.0"
  }
 },
 "nbformat": 4,
 "nbformat_minor": 2
}
